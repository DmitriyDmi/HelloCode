{
  "nbformat": 4,
  "nbformat_minor": 0,
  "metadata": {
    "colab": {
      "provenance": [],
      "name": "LabWork.ipynb",
      "authorship_tag": "ABX9TyPtc2FT0WdC+mpZlXVnykci",
      "include_colab_link": true
    },
    "kernelspec": {
      "name": "python3",
      "display_name": "Python 3"
    },
    "language_info": {
      "name": "python"
    }
  },
  "cells": [
    {
      "cell_type": "markdown",
      "metadata": {
        "id": "view-in-github",
        "colab_type": "text"
      },
      "source": [
        "<a href=\"https://colab.research.google.com/github/DmitriyDmi/HelloCode/blob/main/LabWork.ipynb\" target=\"_parent\"><img src=\"https://colab.research.google.com/assets/colab-badge.svg\" alt=\"Open In Colab\"/></a>"
      ]
    },
    {
      "cell_type": "code",
      "execution_count": null,
      "metadata": {
        "colab": {
          "base_uri": "https://localhost:8080/"
        },
        "id": "ex_PCKj8GKop",
        "outputId": "8be3fca9-6f8c-4e61-c044-3d12a3346b04"
      },
      "outputs": [
        {
          "output_type": "stream",
          "name": "stdout",
          "text": [
            "введите количетво элементов\n",
            "3\n",
            "введите элемент массива 0\n",
            "hello\n",
            "введите элемент массива 1\n",
            "23\n",
            "введите элемент массива 2\n",
            ":-)\n",
            "['hello', '23', ':-)']\n",
            "['23', ':-)']\n"
          ]
        }
      ],
      "source": [
        "print('введите количетво элементов')\n",
        "i = int(input())\n",
        "massiv = []\n",
        "total_massiv = []\n",
        "for j in range(0,i):\n",
        "  print(f'введите элемент массива {j}')\n",
        "  massiv.append(input())\n",
        "  if len(massiv[j]) <= 3:\n",
        "    total_massiv.append(massiv[j])\n",
        "print(massiv)\n",
        "print(total_massiv)"
      ]
    }
  ]
}